{
 "cells": [
  {
   "cell_type": "code",
   "execution_count": null,
   "id": "53a83f9a",
   "metadata": {},
   "outputs": [],
   "source": [
    "#============= Python Part-1=========================\n",
    "1) syntax\n",
    "2) Baic python\n",
    "3) Conditional : if else\n",
    "4) Functions\n",
    "5) Loops: For/while\n",
    "    \n",
    "# strings\n",
    "# list\n",
    "# dic\n",
    "# tuple\n",
    "# sets\n",
    "# file handing"
   ]
  },
  {
   "cell_type": "code",
   "execution_count": 2,
   "id": "5d2b2763",
   "metadata": {},
   "outputs": [
    {
     "data": {
      "text/plain": [
       "str"
      ]
     },
     "execution_count": 2,
     "metadata": {},
     "output_type": "execute_result"
    }
   ],
   "source": [
    "name='python'\n",
    "type(name)"
   ]
  },
  {
   "cell_type": "code",
   "execution_count": 4,
   "id": "2b6831e3",
   "metadata": {},
   "outputs": [
    {
     "data": {
      "text/plain": [
       "'python'"
      ]
     },
     "execution_count": 4,
     "metadata": {},
     "output_type": "execute_result"
    }
   ],
   "source": [
    "name"
   ]
  },
  {
   "cell_type": "code",
   "execution_count": 3,
   "id": "124bcb63",
   "metadata": {},
   "outputs": [
    {
     "data": {
      "text/plain": [
       "'python'"
      ]
     },
     "execution_count": 3,
     "metadata": {},
     "output_type": "execute_result"
    }
   ],
   "source": [
    "name1=\"python\"\n",
    "name1"
   ]
  },
  {
   "cell_type": "code",
   "execution_count": 5,
   "id": "f683a5ef",
   "metadata": {},
   "outputs": [
    {
     "name": "stdout",
     "output_type": "stream",
     "text": [
      "python\n"
     ]
    }
   ],
   "source": [
    "print(name)"
   ]
  },
  {
   "cell_type": "code",
   "execution_count": 6,
   "id": "c885bd97",
   "metadata": {},
   "outputs": [],
   "source": [
    "# doc string: triple quotes\n",
    "# multilple lines\n",
    "# in jupter: markdown\n",
    "# notepad++ \n",
    "# vscode\n",
    "# pycharm\n",
    "string1=\"\"\"hi how are you\n",
    "   im good\n",
    "   im learning python\"\"\""
   ]
  },
  {
   "cell_type": "code",
   "execution_count": 7,
   "id": "c7bb05b0",
   "metadata": {},
   "outputs": [
    {
     "data": {
      "text/plain": [
       "'hi how are you\\n   im good\\n   im learning python'"
      ]
     },
     "execution_count": 7,
     "metadata": {},
     "output_type": "execute_result"
    }
   ],
   "source": [
    "string1"
   ]
  },
  {
   "cell_type": "markdown",
   "id": "6909b97e",
   "metadata": {},
   "source": [
    "- triple quotes is means doc string\n",
    "\n",
    "- it is an informatiom about the code"
   ]
  },
  {
   "cell_type": "code",
   "execution_count": 10,
   "id": "fa503354",
   "metadata": {},
   "outputs": [
    {
     "data": {
      "text/plain": [
       "10"
      ]
     },
     "execution_count": 10,
     "metadata": {},
     "output_type": "execute_result"
    }
   ],
   "source": [
    "\"\"\"\n",
    "this program about infinite while loop\n",
    "the original password='python'\n",
    "function:\n",
    "      arguments: None\n",
    "      return: None\n",
    "\"\"\"\n",
    "def pwd():\n",
    "    password='python'  # random number  (1,10)\n",
    "    while True:\n",
    "        user_pwd=input(\"enter pwd\")  # user number= eval(input)\n",
    "        if password==user_pwd:\n",
    "            print('you won')\n",
    "            break\n",
    "        else:\n",
    "            print(\"the password is wrong\")\n",
    "            \n"
   ]
  },
  {
   "cell_type": "code",
   "execution_count": 12,
   "id": "98a19f12",
   "metadata": {},
   "outputs": [
    {
     "name": "stdout",
     "output_type": "stream",
     "text": [
      "hello 'python'\n"
     ]
    }
   ],
   "source": [
    "print(\"hello 'python'\")"
   ]
  },
  {
   "cell_type": "code",
   "execution_count": 13,
   "id": "d6825542",
   "metadata": {},
   "outputs": [
    {
     "name": "stdout",
     "output_type": "stream",
     "text": [
      "hello \"python\"\n"
     ]
    }
   ],
   "source": [
    "print('hello \"python\"')"
   ]
  },
  {
   "cell_type": "markdown",
   "id": "fe953e41",
   "metadata": {},
   "source": [
    "- entire string will be in double quotes, the highlited string in single quotes\n",
    "- entire string will be in single quotes, the highlited string in double quotes"
   ]
  },
  {
   "cell_type": "code",
   "execution_count": 14,
   "id": "80a9bfaa",
   "metadata": {},
   "outputs": [
    {
     "data": {
      "text/plain": [
       "'python'"
      ]
     },
     "execution_count": 14,
     "metadata": {},
     "output_type": "execute_result"
    }
   ],
   "source": [
    "string1='python'\n",
    "string2=string1 # 'py'\n",
    "string3='hello' # 'he'\n",
    "string4=string3 # 'he'\n",
    "string4=string1 # 'py'\n",
    "string4=string2 # 'py'\n",
    "string5=string4 #'py'\n",
    "string5"
   ]
  },
  {
   "cell_type": "markdown",
   "id": "1dbc5163",
   "metadata": {},
   "source": [
    "- type\n",
    "\n",
    "- len\n",
    "\n",
    "- max\n",
    "\n",
    "- min"
   ]
  },
  {
   "cell_type": "code",
   "execution_count": 15,
   "id": "2c3b03fe",
   "metadata": {},
   "outputs": [
    {
     "data": {
      "text/plain": [
       "str"
      ]
     },
     "execution_count": 15,
     "metadata": {},
     "output_type": "execute_result"
    }
   ],
   "source": [
    "string1='python'\n",
    "type(string1)"
   ]
  },
  {
   "cell_type": "code",
   "execution_count": 16,
   "id": "6152f330",
   "metadata": {},
   "outputs": [
    {
     "data": {
      "text/plain": [
       "6"
      ]
     },
     "execution_count": 16,
     "metadata": {},
     "output_type": "execute_result"
    }
   ],
   "source": [
    "len(string1)\n",
    "# p y t h o n"
   ]
  },
  {
   "cell_type": "code",
   "execution_count": 17,
   "id": "bd96c8e0",
   "metadata": {},
   "outputs": [
    {
     "data": {
      "text/plain": [
       "'y'"
      ]
     },
     "execution_count": 17,
     "metadata": {},
     "output_type": "execute_result"
    }
   ],
   "source": [
    "max(string1)"
   ]
  },
  {
   "cell_type": "code",
   "execution_count": 18,
   "id": "04eda2db",
   "metadata": {},
   "outputs": [
    {
     "data": {
      "text/plain": [
       "'h'"
      ]
     },
     "execution_count": 18,
     "metadata": {},
     "output_type": "execute_result"
    }
   ],
   "source": [
    "min(string1)"
   ]
  },
  {
   "cell_type": "markdown",
   "id": "4281fafd",
   "metadata": {},
   "source": [
    "*In*"
   ]
  },
  {
   "cell_type": "code",
   "execution_count": 24,
   "id": "9da58efd",
   "metadata": {},
   "outputs": [
    {
     "data": {
      "text/plain": [
       "True"
      ]
     },
     "execution_count": 24,
     "metadata": {},
     "output_type": "execute_result"
    }
   ],
   "source": [
    "# iterate a loop on string1\n",
    "# print each letter\n",
    "# get the ascii value\n",
    "'p' in 'python'\n",
    "'y' in 'python'\n",
    "'t' in 'python'\n",
    "'h' in 'python'\n",
    "'o' in 'python'\n",
    "'n' in 'python'\n",
    "\n",
    "# i in 'python'"
   ]
  },
  {
   "cell_type": "code",
   "execution_count": 26,
   "id": "95e2b0ff",
   "metadata": {},
   "outputs": [
    {
     "name": "stdout",
     "output_type": "stream",
     "text": [
      "p 112\n",
      "y 121\n",
      "t 116\n",
      "h 104\n",
      "o 111\n",
      "n 110\n"
     ]
    }
   ],
   "source": [
    "for i in 'python':\n",
    "    print(i,ord(i))"
   ]
  },
  {
   "cell_type": "markdown",
   "id": "c57a05c3",
   "metadata": {},
   "source": [
    "- type\n",
    "\n",
    "- max\n",
    "\n",
    "- min\n",
    "\n",
    "- len\n",
    "\n",
    "- in"
   ]
  },
  {
   "cell_type": "code",
   "execution_count": 28,
   "id": "5c52bf35",
   "metadata": {},
   "outputs": [],
   "source": [
    "string1='hai'\n",
    "string2='python'"
   ]
  },
  {
   "cell_type": "code",
   "execution_count": 29,
   "id": "404ee5c7",
   "metadata": {},
   "outputs": [
    {
     "data": {
      "text/plain": [
       "'haipython'"
      ]
     },
     "execution_count": 29,
     "metadata": {},
     "output_type": "execute_result"
    }
   ],
   "source": [
    "string1+string2  # string concatination"
   ]
  },
  {
   "cell_type": "code",
   "execution_count": 30,
   "id": "99f954b9",
   "metadata": {},
   "outputs": [
    {
     "ename": "TypeError",
     "evalue": "unsupported operand type(s) for -: 'str' and 'str'",
     "output_type": "error",
     "traceback": [
      "\u001b[1;31m---------------------------------------------------------------------------\u001b[0m",
      "\u001b[1;31mTypeError\u001b[0m                                 Traceback (most recent call last)",
      "Cell \u001b[1;32mIn[30], line 1\u001b[0m\n\u001b[1;32m----> 1\u001b[0m string1\u001b[38;5;241m-\u001b[39mstring2\n",
      "\u001b[1;31mTypeError\u001b[0m: unsupported operand type(s) for -: 'str' and 'str'"
     ]
    }
   ],
   "source": [
    "string1-string2\n",
    "# i can not do subtraction between two strings"
   ]
  },
  {
   "cell_type": "code",
   "execution_count": 31,
   "id": "6383b9b3",
   "metadata": {},
   "outputs": [
    {
     "ename": "TypeError",
     "evalue": "unsupported operand type(s) for /: 'str' and 'str'",
     "output_type": "error",
     "traceback": [
      "\u001b[1;31m---------------------------------------------------------------------------\u001b[0m",
      "\u001b[1;31mTypeError\u001b[0m                                 Traceback (most recent call last)",
      "Cell \u001b[1;32mIn[31], line 1\u001b[0m\n\u001b[1;32m----> 1\u001b[0m string1\u001b[38;5;241m/\u001b[39mstring2\n",
      "\u001b[1;31mTypeError\u001b[0m: unsupported operand type(s) for /: 'str' and 'str'"
     ]
    }
   ],
   "source": [
    "string1/string2\n",
    "# i can not do division between two strings"
   ]
  },
  {
   "cell_type": "code",
   "execution_count": 34,
   "id": "18fa2224",
   "metadata": {},
   "outputs": [
    {
     "ename": "TypeError",
     "evalue": "can't multiply sequence by non-int of type 'str'",
     "output_type": "error",
     "traceback": [
      "\u001b[1;31m---------------------------------------------------------------------------\u001b[0m",
      "\u001b[1;31mTypeError\u001b[0m                                 Traceback (most recent call last)",
      "Cell \u001b[1;32mIn[34], line 1\u001b[0m\n\u001b[1;32m----> 1\u001b[0m string1\u001b[38;5;241m*\u001b[39mstring2\n",
      "\u001b[1;31mTypeError\u001b[0m: can't multiply sequence by non-int of type 'str'"
     ]
    }
   ],
   "source": [
    "string1*string2\n"
   ]
  },
  {
   "cell_type": "code",
   "execution_count": 35,
   "id": "0f110c73",
   "metadata": {},
   "outputs": [
    {
     "data": {
      "text/plain": [
       "'pythonpython'"
      ]
     },
     "execution_count": 35,
     "metadata": {},
     "output_type": "execute_result"
    }
   ],
   "source": [
    "2*string2"
   ]
  },
  {
   "cell_type": "code",
   "execution_count": null,
   "id": "81ba7ec9",
   "metadata": {},
   "outputs": [],
   "source": [
    "string1+string2\n",
    "string1-string2\n",
    "string1*string2\n",
    "string1/string2\n",
    "# read the errors"
   ]
  },
  {
   "cell_type": "code",
   "execution_count": null,
   "id": "03eb0d57",
   "metadata": {},
   "outputs": [],
   "source": [
    "# how to read the string\n",
    "# single /double/triple\n",
    "# triple: docstring\n",
    "# type\n",
    "# len\n",
    "# max\n",
    "# min\n",
    "# + : conacte\n",
    "# - :\n",
    "# *\n",
    "# /"
   ]
  },
  {
   "cell_type": "code",
   "execution_count": 1,
   "id": "3335989d",
   "metadata": {},
   "outputs": [],
   "source": [
    "string1='hello'\n",
    "string2='python'"
   ]
  },
  {
   "cell_type": "code",
   "execution_count": 2,
   "id": "acec4206",
   "metadata": {},
   "outputs": [
    {
     "data": {
      "text/plain": [
       "'hellohello'"
      ]
     },
     "execution_count": 2,
     "metadata": {},
     "output_type": "execute_result"
    }
   ],
   "source": [
    "string1+string1"
   ]
  },
  {
   "cell_type": "code",
   "execution_count": 3,
   "id": "cb4a3709",
   "metadata": {},
   "outputs": [
    {
     "data": {
      "text/plain": [
       "'hellohello'"
      ]
     },
     "execution_count": 3,
     "metadata": {},
     "output_type": "execute_result"
    }
   ],
   "source": [
    "2*string1"
   ]
  },
  {
   "cell_type": "markdown",
   "id": "64434517",
   "metadata": {},
   "source": [
    "## indexing"
   ]
  },
  {
   "cell_type": "code",
   "execution_count": 4,
   "id": "e2c25441",
   "metadata": {},
   "outputs": [],
   "source": [
    "name='python'"
   ]
  },
  {
   "cell_type": "code",
   "execution_count": 5,
   "id": "dd54506e",
   "metadata": {},
   "outputs": [],
   "source": [
    "# how many letters are there: 6\n",
    "# python index start with :0\n",
    "\n",
    "p   y    t    h    o    n\n",
    "0   1    2    3    4    5"
   ]
  },
  {
   "cell_type": "code",
   "execution_count": 6,
   "id": "965949dc",
   "metadata": {},
   "outputs": [
    {
     "data": {
      "text/plain": [
       "'p'"
      ]
     },
     "execution_count": 6,
     "metadata": {},
     "output_type": "execute_result"
    }
   ],
   "source": [
    "name[0]"
   ]
  },
  {
   "cell_type": "code",
   "execution_count": 7,
   "id": "50cb3462",
   "metadata": {},
   "outputs": [
    {
     "data": {
      "text/plain": [
       "'y'"
      ]
     },
     "execution_count": 7,
     "metadata": {},
     "output_type": "execute_result"
    }
   ],
   "source": [
    "name[1]"
   ]
  },
  {
   "cell_type": "code",
   "execution_count": null,
   "id": "2183f6ae",
   "metadata": {},
   "outputs": [],
   "source": [
    "name[0]    #  'p'\n",
    "name[1]    #  'y'\n",
    "name[2]    #  't'\n",
    "name[3]    # 'h'\n",
    "name[4]    #  'o'\n",
    "name[5]    # 'n'\n",
    "\n",
    "name[i]"
   ]
  },
  {
   "cell_type": "code",
   "execution_count": 10,
   "id": "56905e78",
   "metadata": {},
   "outputs": [
    {
     "name": "stdout",
     "output_type": "stream",
     "text": [
      "p\n",
      "y\n",
      "t\n",
      "h\n",
      "o\n",
      "n\n"
     ]
    }
   ],
   "source": [
    "# how to print any word/sentence by using range method\n",
    "for i in range(6):\n",
    "    print(name[i])   # iter1:  i=0    name[0]   p\n",
    "                     # iter2:  i=1    name[1]   y"
   ]
  },
  {
   "cell_type": "code",
   "execution_count": 12,
   "id": "6e7ddf70",
   "metadata": {},
   "outputs": [
    {
     "name": "stdout",
     "output_type": "stream",
     "text": [
      "p\n",
      "y\n",
      "t\n",
      "h\n",
      "o\n",
      "n\n"
     ]
    },
    {
     "ename": "IndexError",
     "evalue": "string index out of range",
     "output_type": "error",
     "traceback": [
      "\u001b[1;31m---------------------------------------------------------------------------\u001b[0m",
      "\u001b[1;31mIndexError\u001b[0m                                Traceback (most recent call last)",
      "Cell \u001b[1;32mIn[12], line 3\u001b[0m\n\u001b[0;32m      1\u001b[0m name\u001b[38;5;241m=\u001b[39m\u001b[38;5;124m'\u001b[39m\u001b[38;5;124mpython\u001b[39m\u001b[38;5;124m'\u001b[39m\n\u001b[0;32m      2\u001b[0m \u001b[38;5;28;01mfor\u001b[39;00m i \u001b[38;5;129;01min\u001b[39;00m \u001b[38;5;28mrange\u001b[39m(\u001b[38;5;241m7\u001b[39m):\n\u001b[1;32m----> 3\u001b[0m     \u001b[38;5;28mprint\u001b[39m(name[i])\n",
      "\u001b[1;31mIndexError\u001b[0m: string index out of range"
     ]
    }
   ],
   "source": [
    "name='python'\n",
    "for i in range(7):\n",
    "    print(name[i])   #  0   1   2   3  4  5  name[6]"
   ]
  },
  {
   "cell_type": "code",
   "execution_count": 14,
   "id": "8299d3ae",
   "metadata": {},
   "outputs": [
    {
     "name": "stdout",
     "output_type": "stream",
     "text": [
      "17\n",
      "h e l l o   h o w   a r e   y o u "
     ]
    }
   ],
   "source": [
    "name1='hello how are you'\n",
    "# spaces also consider one character\n",
    "print(len(name1))\n",
    "# i need to provide some number\n",
    "for i in range(len(name1)):\n",
    "    print(name1[i],end=' ')"
   ]
  },
  {
   "cell_type": "code",
   "execution_count": null,
   "id": "458bb04f",
   "metadata": {},
   "outputs": [],
   "source": [
    "# wap ask the user print the letters from a given word \n",
    "# using for loop\n",
    "# 'the index of p is:0'\n",
    "# 'the index of y is:1'\n",
    "\n",
    "# i want letter as well as attached index number"
   ]
  },
  {
   "cell_type": "code",
   "execution_count": 17,
   "id": "6defb7d7",
   "metadata": {},
   "outputs": [
    {
     "name": "stdout",
     "output_type": "stream",
     "text": [
      "the index of p is:0\n",
      "the index of y is:1\n",
      "the index of t is:2\n",
      "the index of h is:3\n",
      "the index of o is:4\n",
      "the index of n is:5\n"
     ]
    }
   ],
   "source": [
    "name2='python'\n",
    "for i in range(len(name2)):\n",
    "    print('the index of {} is:{}'.format(name2[i],i))                          "
   ]
  },
  {
   "cell_type": "code",
   "execution_count": 18,
   "id": "4e1e5434",
   "metadata": {},
   "outputs": [
    {
     "name": "stdout",
     "output_type": "stream",
     "text": [
      "the index of p is:0\n",
      "the index of y is:1\n",
      "the index of t is:2\n",
      "the index of h is:3\n",
      "the index of o is:4\n",
      "the index of n is:5\n"
     ]
    }
   ],
   "source": [
    "# same code using while loop\n",
    "i=0\n",
    "name2='python'\n",
    "while i<len(name2):\n",
    "    print('the index of {} is:{}'.format(name2[i],i)) \n",
    "    i+=1"
   ]
  },
  {
   "cell_type": "code",
   "execution_count": null,
   "id": "3aede751",
   "metadata": {},
   "outputs": [],
   "source": [
    "-6  -5   -4   -3   -2   -1\n",
    "p   y    t    h    o    n\n",
    "0   1    2    3    4    5 =========> postive index"
   ]
  },
  {
   "cell_type": "code",
   "execution_count": 21,
   "id": "2fee1033",
   "metadata": {},
   "outputs": [
    {
     "data": {
      "text/plain": [
       "'p'"
      ]
     },
     "execution_count": 21,
     "metadata": {},
     "output_type": "execute_result"
    }
   ],
   "source": [
    "name3='python'\n",
    "name3[-6]"
   ]
  },
  {
   "cell_type": "code",
   "execution_count": null,
   "id": "7018a783",
   "metadata": {},
   "outputs": [],
   "source": [
    "# wap ask the user print the letters from a given word \n",
    "# using for loop\n",
    "# 'the negative index of p is:-6'\n",
    "# 'the negative index of y is:-5'\n",
    "\n",
    "# i want letter as well as attached index number"
   ]
  },
  {
   "cell_type": "code",
   "execution_count": 32,
   "id": "2eb93859",
   "metadata": {},
   "outputs": [
    {
     "name": "stdout",
     "output_type": "stream",
     "text": [
      "the negative index of p is -6\n",
      "the negative index of y is -5\n",
      "the negative index of t is -4\n",
      "the negative index of h is -3\n",
      "the negative index of o is -2\n",
      "the negative index of n is -1\n"
     ]
    }
   ],
   "source": [
    "name3='python'\n",
    "for i in range(-len(name3),0):\n",
    "    print(\"the negative index of {} is {}\".format(name3[i],i))            #  -6   -5    -4   -3   -2   -1"
   ]
  },
  {
   "cell_type": "code",
   "execution_count": 34,
   "id": "4e68433e",
   "metadata": {},
   "outputs": [
    {
     "name": "stdout",
     "output_type": "stream",
     "text": [
      "the negative index of p is -6\n",
      "the negative index of y is -5\n",
      "the negative index of t is -4\n",
      "the negative index of h is -3\n",
      "the negative index of o is -2\n",
      "the negative index of n is -1\n"
     ]
    }
   ],
   "source": [
    "name4='python'\n",
    "for i in range(len(name4)):\n",
    "    print(\"the negative index of {} is {}\".format(name4[i],i-len(name4)))                   "
   ]
  },
  {
   "cell_type": "code",
   "execution_count": 35,
   "id": "e4a7033d",
   "metadata": {},
   "outputs": [
    {
     "name": "stdout",
     "output_type": "stream",
     "text": [
      "the -ve index of p is : -6\n",
      "the -ve index of n is : -5\n",
      "the -ve index of o is : -4\n",
      "the -ve index of h is : -3\n",
      "the -ve index of t is : -2\n",
      "the -ve index of y is : -1\n"
     ]
    }
   ],
   "source": [
    "# how to print -6 -5 -4 -3 -2 -1 using while loop\n",
    "i=0\n",
    "name4='python'\n",
    "while i>-len(name4):\n",
    "    print('the -ve index of {} is : {}'.format(name4[i],-len(name4)-i))\n",
    "    i-=1"
   ]
  },
  {
   "cell_type": "code",
   "execution_count": 36,
   "id": "a99e112d",
   "metadata": {},
   "outputs": [
    {
     "name": "stdout",
     "output_type": "stream",
     "text": [
      "The negative Index of p is -6\n",
      "The negative Index of y is -5\n",
      "The negative Index of t is -4\n",
      "The negative Index of h is -3\n",
      "The negative Index of o is -2\n",
      "The negative Index of n is -1\n"
     ]
    }
   ],
   "source": [
    "name='python'\n",
    "i=-len(name)\n",
    "while i<0:\n",
    "    print(\"The negative Index of {} is {}\".format(name[i],i))\n",
    "    i=i+1"
   ]
  },
  {
   "cell_type": "code",
   "execution_count": null,
   "id": "6201012a",
   "metadata": {},
   "outputs": [],
   "source": [
    "'the postive index is 0 and negative index is -6 for p'\n",
    "'the postive index is 1 and negative index is -5 for y'\n",
    "\n",
    "\n",
    "for  i   in  range():\n",
    "    0      -6\n",
    "    1      -5"
   ]
  },
  {
   "cell_type": "code",
   "execution_count": 37,
   "id": "66bc486d",
   "metadata": {},
   "outputs": [
    {
     "name": "stdout",
     "output_type": "stream",
     "text": [
      "the positivr index is: 0 the negetive index is: -6 for p\n",
      "the positivr index is: 1 the negetive index is: -5 for y\n",
      "the positivr index is: 2 the negetive index is: -4 for t\n",
      "the positivr index is: 3 the negetive index is: -3 for h\n",
      "the positivr index is: 4 the negetive index is: -2 for o\n",
      "the positivr index is: 5 the negetive index is: -1 for n\n"
     ]
    }
   ],
   "source": [
    "name='python'\n",
    "for i in range(len(name)):\n",
    "    print('the positivr index is: {} the negetive index is: {} for {}'. format(i,i-len(name),name[i]))"
   ]
  },
  {
   "cell_type": "code",
   "execution_count": 39,
   "id": "97399e0f",
   "metadata": {},
   "outputs": [
    {
     "name": "stdout",
     "output_type": "stream",
     "text": [
      "the positive index is 0 and negative index is -6 for p\n",
      "the positive index is 1 and negative index is -5 for y\n",
      "the positive index is 2 and negative index is -4 for t\n",
      "the positive index is 3 and negative index is -3 for h\n",
      "the positive index is 4 and negative index is -2 for o\n",
      "the positive index is 5 and negative index is -1 for n\n"
     ]
    }
   ],
   "source": [
    "name6='python'\n",
    "for i in range(len(name6)):\n",
    "    print(\"the positive index is {} and negative index is {} for {}\".format(i,i-len(name6),name6[i]))"
   ]
  },
  {
   "cell_type": "code",
   "execution_count": 40,
   "id": "21ca7c5d",
   "metadata": {},
   "outputs": [
    {
     "name": "stdout",
     "output_type": "stream",
     "text": [
      "enter a wordpython\n",
      "the possitive index is 0 and negative index is -6 for p\n",
      "the possitive index is 1 and negative index is -5 for y\n",
      "the possitive index is 2 and negative index is -4 for t\n",
      "the possitive index is 3 and negative index is -3 for h\n",
      "the possitive index is 4 and negative index is -2 for o\n",
      "the possitive index is 5 and negative index is -1 for n\n"
     ]
    }
   ],
   "source": [
    "name2=input('enter a word')\n",
    "for i in range(len(name2)):\n",
    "    print('the possitive index is {} and negative index is {} for {}'.format(i,i-len(name2),name[i]))"
   ]
  },
  {
   "cell_type": "code",
   "execution_count": 41,
   "id": "e6fbf1ad",
   "metadata": {},
   "outputs": [
    {
     "name": "stdout",
     "output_type": "stream",
     "text": [
      "The +ve Index is 0 and -ve Index is -12 for:L\n",
      "The +ve Index is 1 and -ve Index is -11 for:e\n",
      "The +ve Index is 2 and -ve Index is -10 for:a\n",
      "The +ve Index is 3 and -ve Index is -9 for:r\n",
      "The +ve Index is 4 and -ve Index is -8 for:n\n",
      "The +ve Index is 5 and -ve Index is -7 for: \n",
      "The +ve Index is 6 and -ve Index is -6 for:P\n",
      "The +ve Index is 7 and -ve Index is -5 for:y\n",
      "The +ve Index is 8 and -ve Index is -4 for:t\n",
      "The +ve Index is 9 and -ve Index is -3 for:h\n",
      "The +ve Index is 10 and -ve Index is -2 for:o\n",
      "The +ve Index is 11 and -ve Index is -1 for:n\n"
     ]
    }
   ],
   "source": [
    "word = \"Learn Python\"\n",
    "for i in range(len(word)):\n",
    "    print(\"The +ve Index is {} and -ve Index is {} for:{}\".format(i,i-len(word),word[i-len(word)]))"
   ]
  },
  {
   "cell_type": "code",
   "execution_count": 49,
   "id": "78a23330",
   "metadata": {},
   "outputs": [
    {
     "name": "stdout",
     "output_type": "stream",
     "text": [
      "0 p -6\n",
      "1 y -5\n",
      "2 t -4\n",
      "3 h -3\n",
      "4 o -2\n",
      "5 n -1\n",
      "the negative index of p is -6\n",
      "the negative index of y is -5\n",
      "the negative index of t is -4\n",
      "the negative index of h is -3\n",
      "the negative index of o is -2\n",
      "the negative index of n is -1\n",
      "the positive index of p is 0\n",
      "the positive index of y is 1\n",
      "the positive index of t is 2\n",
      "the positive index of h is 3\n",
      "the positive index of o is 4\n",
      "the positive index of n is 5\n"
     ]
    }
   ],
   "source": [
    "for i in range(len(name4)):\n",
    "    print(i,name4[i],i-len(name4))\n",
    "    \n",
    "    \n",
    "#======================= negative index===================    \n",
    "name4='python'\n",
    "for i in range(len(name4)):\n",
    "    print(\"the negative index of {} is {}\".format(name4[i],i-len(name4)))      \n",
    "    \n",
    "#======================= pos index===================    \n",
    "name4='python'\n",
    "for i in range(len(name4)):\n",
    "    print(\"the positive index of {} is {}\".format(name4[i],i))"
   ]
  },
  {
   "cell_type": "code",
   "execution_count": null,
   "id": "9c4146c2",
   "metadata": {},
   "outputs": [],
   "source": [
    "sent='hai hai how are you'\n",
    "#Q1 print how many 'a' are there : 3\n",
    "# count=0\n",
    "# iterate the leeters through for loop\n",
    "#        apply the if condition letter=='a'\n",
    "#                    count+=1\n",
    "\n",
    "\n",
    "#Q2 print the index of 'a': \n",
    "\n",
    "#Q3 print the number of vowels: a  a  i  o  a  e  o  u: 9\n",
    "\n",
    "# Q4 print the number of unique vowels:  a i   o   e  u:4"
   ]
  },
  {
   "cell_type": "code",
   "execution_count": 52,
   "id": "9adfd08f",
   "metadata": {},
   "outputs": [
    {
     "name": "stdout",
     "output_type": "stream",
     "text": [
      "h\n",
      "a\n",
      "i\n",
      " \n",
      "h\n",
      "a\n",
      "i\n",
      " \n",
      "h\n",
      "o\n",
      "w\n",
      " \n",
      "a\n",
      "r\n",
      "e\n",
      " \n",
      "y\n",
      "o\n",
      "u\n",
      "no of repated a are: 3\n"
     ]
    }
   ],
   "source": [
    "#Q1 print how many 'a' are there : 3\n",
    "# count=0\n",
    "# iterate the leeters through for loop\n",
    "#        apply the if condition letter=='a'\n",
    "#                    count+=1\n",
    "\n",
    "\n",
    "sent='hai hai how are you'\n",
    "# first iteratre letters\n",
    "count=0\n",
    "for i in range(len(sent)):\n",
    "    if sent[i]=='a':             \n",
    "        count=count+1\n",
    "        \n",
    "print(\"no of repated a are:\",count)\n",
    "\n",
    "# step-1:   i=0    sent[0]='h'    'h'=='a'    F\n",
    "# step-2:   i=1    sent[1]='a'     'a'=='a'   T ====count=0+1= 1"
   ]
  },
  {
   "cell_type": "code",
   "execution_count": 53,
   "id": "abc84c48",
   "metadata": {},
   "outputs": [
    {
     "name": "stdout",
     "output_type": "stream",
     "text": [
      "1\n",
      "5\n",
      "12\n",
      "no of repated a are: 3\n"
     ]
    }
   ],
   "source": [
    "sent='hai hai how are you'\n",
    "# first iteratre letters\n",
    "count=0\n",
    "for i in range(len(sent)):\n",
    "    if sent[i]=='a':             \n",
    "        count=count+1\n",
    "        print(i)\n",
    "        \n",
    "print(\"no of repated a are:\",count)"
   ]
  },
  {
   "cell_type": "code",
   "execution_count": 57,
   "id": "004984db",
   "metadata": {},
   "outputs": [
    {
     "name": "stdout",
     "output_type": "stream",
     "text": [
      "no of repated a are: 3\n",
      "1\n",
      "5\n",
      "12\n",
      "no of repated a are: 3\n",
      "no of repated vowels are: 9\n"
     ]
    }
   ],
   "source": [
    "########################################## Q1) getting number of 'a' #####################################\n",
    "sent='hai hai how are you'\n",
    "# first iteratre letters\n",
    "count=0\n",
    "for i in range(len(sent)):\n",
    "    if sent[i]=='a':             \n",
    "        count=count+1\n",
    "        \n",
    "print(\"no of repated a are:\",count)\n",
    "\n",
    "\n",
    "#################################### Q2)getting indexof 'a' ###############################################\n",
    "sent='hai hai how are you'\n",
    "# first iteratre letters\n",
    "count=0\n",
    "for i in range(len(sent)):\n",
    "    if sent[i]=='a':             \n",
    "        count=count+1\n",
    "        print(i)\n",
    "        \n",
    "print(\"no of repated a are:\",count)\n",
    "\n",
    "\n",
    "#################################### Q3) No of vowels in the given sentence##################################\n",
    "\n",
    "sent='hai hai how are you'\n",
    "# first iteratre letters\n",
    "count=0\n",
    "for i in range(len(sent)):\n",
    "    if sent[i] in 'aeiou':             \n",
    "        count=count+1\n",
    "        \n",
    "print(\"no of repated vowels are:\",count)"
   ]
  },
  {
   "cell_type": "code",
   "execution_count": 55,
   "id": "9a3680ad",
   "metadata": {},
   "outputs": [
    {
     "data": {
      "text/plain": [
       "True"
      ]
     },
     "execution_count": 55,
     "metadata": {},
     "output_type": "execute_result"
    }
   ],
   "source": [
    "'a' in 'aeiou'"
   ]
  },
  {
   "cell_type": "code",
   "execution_count": null,
   "id": "ecf1e1df",
   "metadata": {},
   "outputs": [],
   "source": [
    "# take an empty string\n",
    "# string1=''\n",
    "# iterate through loop\n",
    "#  if  'a' in 'aeiou':\n",
    "#       if 'a' not in string1\"\n",
    "#           string1=string1+'a'    # string1='a'"
   ]
  },
  {
   "cell_type": "code",
   "execution_count": null,
   "id": "6e096d12",
   "metadata": {},
   "outputs": [],
   "source": [
    "# check two conditions parallal\n",
    "#  the given letter is in 'aeiou' \n",
    "#  if that is true check about same letter it is there in empty string\n",
    "#  if it is not there move to empty string\n",
    "#  if it is there dont move it"
   ]
  },
  {
   "cell_type": "code",
   "execution_count": null,
   "id": "ec3be730",
   "metadata": {},
   "outputs": [],
   "source": []
  },
  {
   "cell_type": "code",
   "execution_count": null,
   "id": "daf1d6ec",
   "metadata": {},
   "outputs": [],
   "source": []
  }
 ],
 "metadata": {
  "kernelspec": {
   "display_name": "Python 3 (ipykernel)",
   "language": "python",
   "name": "python3"
  },
  "language_info": {
   "codemirror_mode": {
    "name": "ipython",
    "version": 3
   },
   "file_extension": ".py",
   "mimetype": "text/x-python",
   "name": "python",
   "nbconvert_exporter": "python",
   "pygments_lexer": "ipython3",
   "version": "3.11.5"
  }
 },
 "nbformat": 4,
 "nbformat_minor": 5
}
